{
 "cells": [
  {
   "cell_type": "code",
   "execution_count": 3,
   "metadata": {},
   "outputs": [],
   "source": [
    "import gpt_2_simple as gp2 "
   ]
  },
  {
   "cell_type": "code",
   "execution_count": 4,
   "metadata": {},
   "outputs": [],
   "source": [
    "session = gp2.start_tf_sess()"
   ]
  },
  {
   "cell_type": "code",
   "execution_count": 5,
   "metadata": {},
   "outputs": [
    {
     "name": "stderr",
     "output_type": "stream",
     "text": [
      "2023-12-19 10:44:23.148059: I tensorflow/compiler/mlir/mlir_graph_optimization_pass.cc:388] MLIR V1 optimization pass is not enabled\n"
     ]
    },
    {
     "name": "stdout",
     "output_type": "stream",
     "text": [
      "Loading checkpoint checkpoint/steamcenter/model-100\n",
      "INFO:tensorflow:Restoring parameters from checkpoint/steamcenter/model-100\n",
      "Loading dataset...\n"
     ]
    },
    {
     "name": "stderr",
     "output_type": "stream",
     "text": [
      "100%|██████████| 1/1 [00:00<00:00, 1412.22it/s]"
     ]
    },
    {
     "name": "stdout",
     "output_type": "stream",
     "text": [
      "dataset has 2224 tokens\n",
      "Training...\n"
     ]
    },
    {
     "name": "stderr",
     "output_type": "stream",
     "text": [
      "\n"
     ]
    },
    {
     "name": "stdout",
     "output_type": "stream",
     "text": [
      "======== SAMPLE 1 ========\n",
      " so we need to hear from you. What are the typical interview requests?\n",
      "A: We typically schedule three or five:\n",
      "\n",
      "Q: What will my potential intern be capable of doing?\n",
      "A: You will have the ability to:\n",
      "\n",
      "Q: Is there a schedule for your work-baed course?\n",
      "A: Usually, the schedule is as follows:\n",
      "\n",
      "Q: How are you able to attend?\n",
      "A: By sitting on our Advisory Council, I can answer your specific question, present some strong research supporting my strategy, and propose some potential collaborations.\n",
      "\n",
      "Q:What is the purpose of the Advisory Council? How often does it meet?\n",
      "A: In order to execute strong programs that relate to real-world skills, we need your advice, as experts in the industry that are hiring our youth, we need to hear from you. Our Advisory Council is where we discuss these details to then iterate and revise our curriculum and opportunities. We typically meet semi-annually, in January and June, but invested members can choose to be tapped more often.\n",
      "\n",
      "Q: When do you typically place interns with business? How long are the experiences?\n",
      "A: We have three typical internship cycles, Fall (October-January), Spring (March-May), and Summer (July-August). Internships are usually between 80-120 hours each, you are able to work with the intern to establish a schedule that works for both of you.\n",
      "\n",
      "Q: What is the expectation around intern pay and workers’ compensation insurance?\n",
      "A: Although we are always excited for partners that are willing to compensate interns, we understand that might not always be an option; regardless, all interns are compensated, and we will use our budget where available to pay the prevailing minimum wage rate. Workers’ compensation insurance is the responsibility of the organization that pays the scholar, so if we’re paying, we’ve covered the legality there.\n",
      "\n",
      "\n",
      "\n",
      "Q: What will my potential intern be capable of doing?\n",
      "A: Our scholars are enrolled in high-quality career pathway programs, you can read about their high-level overviews here. You will also have the ability to review their resume, portfolio, and industry certifications, and interview them to decide if there is a match.\n",
      "\n",
      "Q: Explain the smaller work-based learning opportunities I can get involved with.\n",
      "A: Beyond our internship program and industry-based project initiative, organizations may choose to schedule opportunities such as “Guest Speaking”, “Workplace Tours”, “Career Fairs”, “Job Shadowing” or “Mentoring.”\n",
      "\n",
      "Q: Where does postsecondary education fit in the Brooklyn STEAM Center model?\n",
      "A: We believe that learning is a lifelong process, so we encourage our youth to start “Learning & Earning” when they’re with us and beyond, programs such as college, trade school, and apprenticeships are all viable options post-graduation.\n",
      "\n",
      "Q: Do you track students into a particular option?\n",
      "A: No, we believe in supporting our youth with a pathway that works best with their needs. College, trade school, and apprenticeships all have their own advantages that we present to our youth for them to make an informed decision.  \n",
      "\n",
      "Q: What’s an articulation agreement?\n",
      "A: In short, it is a formalized document between our institution and yours that illustrates the pipeline recruitment strategy to your pathway, which comes with the added benefits of having highly interested and pre-trained scholars that typically come with some form of incentive (e.g. Prior Learning Credit, Fee Waiver, etc.).\n",
      "\n",
      "\n",
      "Q: Do you do tours?\n",
      "A: Yes, please reach out via our contact form to request a tour. \n",
      "\n",
      "Q: I want to spend a whole day with you to really learn about your model, is something like that possible?\n",
      "A: Inspiration visits are possible, for individuals and teams, which can span several hours or days. Please reach out to us so that we can collaborate on bringing that vision to life.\n",
      "\n",
      "Q: Is there a fee for these explorations?\n",
      "A: It depends, we want to share our model as much as we can, and based on our conversation about collaboration, deep engagements may have a small fee. Rest assured these funds are used to add to our scholar compensation fund for our internship program.\n",
      "\n",
      "Q: When do the Brooklyn STEAM Center programs occur?\n",
      "A: The Brooklyn STEAM Center programs occur during the regular school day, in the morning for Year 2 scholars and in the afternoon for Year 1 scholars. We operate the same days as the partner high school, offering instruction five days a week for 2.5 hours each day.\n",
      "\n",
      "Q: Wait a second, you said that students will be splitting their day, what does that mean?\n",
      "A: The Brooklyn STE\n",
      "\n",
      "interrupted\n",
      "Saving checkpoint/steamcenter/model-100\n"
     ]
    }
   ],
   "source": [
    "gp2.finetune(\n",
    "    session, 'steam.txt', model_name = '124M', steps= 100, run_name='steamcenter'\n",
    ")"
   ]
  },
  {
   "cell_type": "code",
   "execution_count": 8,
   "metadata": {},
   "outputs": [
    {
     "name": "stdout",
     "output_type": "stream",
     "text": [
      "Q: What are the STEAM Center pathways? \n",
      "A: You can work with the intern to establish a schedule that works for both of you.\n",
      "\n",
      "Q: What is the purpose of the STEAM Center? How long are the visits?\n",
      "A: The most frequent visit is to the intern's home, where we sit down and talk about our model, group work, and beyond. We typically meet semi-annually, in January and June, but invested members can choose to be tapped more often.\n",
      "\n",
      "Q: When do you typically place interns with business? How long are the experiences?\n",
      "A: We have three typical internship cycles, Fall (October-January), Spring (March-May), and Summer (July-August). Internships are usually between 80-120 hours each, you are able to work with the intern to establish a schedule that works for both of you.\n",
      "\n",
      "Q: What is the expectation around intern pay and workers’ compensation insurance?\n",
      "A: Although we are always excited for partners that are willing to compensate interns, we understand that might not always be an option; regardless, all interns are compensated, and we will use our budget where available to pay the prevailing minimum wage rate. Workers’ compensation insurance is the responsibility of the organization that pays the scholar, so if we’re paying, we’ve covered the legality there.\n",
      "\n",
      "\n",
      "\n",
      "Q: What will my potential intern be capable of doing?\n",
      "A: Our scholars are enrolled in high-quality career pathway programs, you can read about their high-level overviews here. You will also have the ability to review their resume, portfolio, and industry certifications, and interview them to decide if there is a match.\n",
      "\n",
      "Q: Explain the smaller work-based learning opportunities I can get involved with.\n",
      "A: Beyond our internship program and industry-based project initiative, organizations may choose to schedule opportunities such as “Guest Speaking”, “Workplace Tours”, “Career Fairs”, “Job Shadowing” or “Mentoring.”\n",
      "\n",
      "Q: Where does postsecondary education fit in the Brooklyn STEAM Center model?\n",
      "A: We believe that learning is a lifelong process, so we encourage our youth to start “Learning & Earning” when they’re with us and beyond, programs such as college, trade school, and apprenticeships are all viable options post-graduation.\n",
      "\n",
      "Q: Do you track students into a particular option?\n",
      "A: No, we believe in supporting our youth with a pathway that works best with their needs. College, trade school, and apprenticeships all have their own advantages, that we present to our youth for them to make an informed decision.  \n",
      "\n",
      "Q: What’s an articulation agreement?\n",
      "A: In short, it is a formalized document between our institution and yours that illustrates the pipeline recruitment strategy to your pathway, which comes with the added benefits of having highly interested and pre-trained scholars that typically come with some form of incentive (e.g. Prior Learning Credit, Fee Waiver, etc.).\n",
      "\n",
      "\n",
      "Q: Do you do tours?\n",
      "A: Yes, please reach out via our contact form to request a tour. \n",
      "\n",
      "Q: I want to spend a whole day with you to really learn about your model, is something like that possible?\n",
      "A: Inspiration visits are possible, for individuals and teams, which can span several hours or days. Please reach out to us so that we can collaborate on bringing that vision to life.\n",
      "\n",
      "Q: Is there a fee for these explorations?\n",
      "A: It depends, we want to share our model as much as we can, and based on our conversation about collaboration, deep engagements may have a small fee. Rest assured these funds are used to add to our scholar compensation fund for our internship program.\n",
      "\n",
      "Q: When do the Brooklyn STEAM Center programs occur?\n",
      "A: The Brooklyn STEAM Center programs occur during the regular school day, in the morning for Year 2 scholars and in the afternoon for Year 1 scholars. We operate the same days as the partner high school, offering instruction five days a week for 2.5 hours each day.\n",
      "\n",
      "Q: Wait a second, you said that students will be splitting their day, what does that mean?\n",
      "A: The Brooklyn STEAM Center is located on the Brooklyn Navy Yard, which is geographically separate from all of our partner high schools. Scholars in our program spend half of their school day with us and the other half at their home high school. We provide complimentary yellow bus shuttles during the middle of the day for scholars to travel between the two locations to ensure punctuality and avoid harsh weather.\n",
      "\n",
      "\n",
      "Q: How does this impact my high school graduation requirements?\n",
      "A: Our CTE Programs actually enable scholars to reduce their required 6 credits of LOTE (Language Other Than English)\n"
     ]
    }
   ],
   "source": [
    "gp2.generate(session, prefix = 'Q: What are the STEAM Center pathways? ', run_name='steamcenter')"
   ]
  }
 ],
 "metadata": {
  "kernelspec": {
   "display_name": "Python 3",
   "language": "python",
   "name": "python3"
  },
  "language_info": {
   "codemirror_mode": {
    "name": "ipython",
    "version": 3
   },
   "file_extension": ".py",
   "mimetype": "text/x-python",
   "name": "python",
   "nbconvert_exporter": "python",
   "pygments_lexer": "ipython3",
   "version": "3.10.8"
  },
  "orig_nbformat": 4,
  "vscode": {
   "interpreter": {
    "hash": "b0fa6594d8f4cbf19f97940f81e996739fb7646882a419484c72d19e05852a7e"
   }
  }
 },
 "nbformat": 4,
 "nbformat_minor": 2
}
